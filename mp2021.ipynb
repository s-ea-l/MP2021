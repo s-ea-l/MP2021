{
 "cells": [
  {
   "cell_type": "code",
   "execution_count": 1236,
   "metadata": {},
   "outputs": [],
   "source": [
    "import numpy as np\n",
    "from PIL import Image,ImageOps"
   ]
  },
  {
   "cell_type": "code",
   "execution_count": 1245,
   "metadata": {},
   "outputs": [],
   "source": [
    "def Barrycenter(cost,a, b, t, error=0.0000001,regular=0.000000001):\n",
    "    #a b images, more t more b, less t more a, error of regularised result, regular degree of regularisation\n",
    "    K = np.exp(-cost/regular)\n",
    "    #K is regularisation step\n",
    "    \n",
    "    va=np.ones(n)/n\n",
    "    vb=np.ones(n)/n\n",
    "    alpha = np.ones(n)/n\n",
    "    #Zwischenschritte, after Sinkhorn\n",
    "    \n",
    "    oldalpha = 5\n",
    "    #saves old value bc result alpha should converge, if difference > error continue, < then continue\n",
    "    while np.linalg.norm(alpha-oldalpha)>error:\n",
    "        oldalpha =alpha\n",
    "        \n",
    "        ua = np.maximum(np.dot(K, va),np.finfo(np.float).eps)\n",
    "        ub = np.maximum(np.dot(K, vb),np.finfo(np.float).eps)\n",
    "        \n",
    "        ua = np.true_divide(a,ua)\n",
    "        ub = np.true_divide(b,ub)\n",
    "        \n",
    "        alpha = np.power(np.dot(np.transpose(K), ua),1-t)\n",
    "        alpha = alpha * np.power(np.dot(np.transpose(K), ub),t)\n",
    "        \n",
    "        va = np.maximum(np.dot(np.transpose(K), ua),np.finfo(np.float).eps)\n",
    "        vb = np.maximum(np.dot(np.transpose(K), ub),np.finfo(np.float).eps)\n",
    "        \n",
    "        va = np.true_divide(alpha,va)\n",
    "        vb = np.true_divide(alpha,vb)\n",
    "\n",
    "\n",
    "    return alpha"
   ]
  },
  {
   "cell_type": "code",
   "execution_count": 1246,
   "metadata": {},
   "outputs": [],
   "source": [
    "#cost functions/metrics\n",
    "l2 = lambda x,y: np.sqrt(x*x+y*y)\n",
    "l1 = lambda x,y: np.abs(x)+np.abs(y)"
   ]
  },
  {
   "cell_type": "code",
   "execution_count": 1250,
   "metadata": {},
   "outputs": [],
   "source": [
    "#closer to a or to be\n",
    "t=0.6\n",
    "\n",
    "str1 = \"MINIlegBOcrop.PNG\"\n",
    "str2 = \"MINIlegBOcropHEU.PNG\"\n",
    "\n",
    "#norm, can be replaced by other cost function\n",
    "norm = l1\n",
    "\n",
    "#image put in array, shape flattened, inverted and normalised such that they sum to 1\n",
    "a=np.asarray(ImageOps.grayscale(Image.open(str1)))\n",
    "b=np.asarray(ImageOps.grayscale(Image.open(str2)))\n",
    "\n",
    "x,y = a.shape\n",
    "\n",
    "a=a.flatten()\n",
    "b=b.flatten()\n",
    "a=255-a\n",
    "b=255-b\n",
    "a = a/np.sum(a)\n",
    "b = b/np.sum(b)\n",
    "a = a.astype(np.longdouble) \n",
    "b = b.astype(np.longdouble) \n",
    "\n",
    "#initialising of cost matrix\n",
    "n=x*y\n",
    "cost = np.array([[norm(i//x-j//x , i%y-j%y) for i in range(n)] for j in range(n)])\n",
    "cost = cost.astype(np.longdouble)  \n",
    "#normalising \n",
    "cost = cost/np.sum(cost)\n",
    " \n",
    "#Barrycenter called\n",
    "barry = Barrycenter(cost,a,b,t)\n",
    "barry = barry/np.max(barry)\n",
    "barry = (barry*255).astype(np.uint8)\n",
    "barry = 255-barry\n",
    "barry = barry.reshape((x,y))                "
   ]
  },
  {
   "cell_type": "code",
   "execution_count": 1251,
   "metadata": {},
   "outputs": [],
   "source": [
    "#array turned to image\n",
    "img = Image.fromarray(barry, \"L\")\n",
    "img.show()\n",
    "#img.save(\"NumpyPrH.PNG\")"
   ]
  }
 ],
 "metadata": {
  "kernelspec": {
   "display_name": "Python 3",
   "language": "python",
   "name": "python3"
  },
  "language_info": {
   "codemirror_mode": {
    "name": "ipython",
    "version": 3
   },
   "file_extension": ".py",
   "mimetype": "text/x-python",
   "name": "python",
   "nbconvert_exporter": "python",
   "pygments_lexer": "ipython3",
   "version": "3.8.3"
  }
 },
 "nbformat": 4,
 "nbformat_minor": 4
}
